{
  "nbformat": 4,
  "nbformat_minor": 0,
  "metadata": {
    "colab": {
      "provenance": []
    },
    "kernelspec": {
      "name": "python3",
      "display_name": "Python 3"
    },
    "language_info": {
      "name": "python"
    }
  },
  "cells": [
    {
      "cell_type": "code",
      "source": [
        "!pip install imbalance-metrics"
      ],
      "metadata": {
        "id": "mNIY25rHOvB0"
      },
      "execution_count": null,
      "outputs": []
    },
    {
      "cell_type": "code",
      "source": [
        "!pip install ImbalancedLearningRegression"
      ],
      "metadata": {
        "id": "E15mmc_wjbEa"
      },
      "execution_count": null,
      "outputs": []
    },
    {
      "cell_type": "code",
      "source": [
        "!pip install smogn\n",
        "!pip install resreg"
      ],
      "metadata": {
        "id": "B4E196Kdjefx"
      },
      "execution_count": null,
      "outputs": []
    },
    {
      "cell_type": "code",
      "execution_count": null,
      "metadata": {
        "id": "0QXka8hfid09"
      },
      "outputs": [],
      "source": [
        "from joblib import Parallel, delayed\n",
        "\n",
        "import pandas as pd\n",
        "from sklearn.model_selection import train_test_split, RepeatedKFold, GridSearchCV, KFold\n",
        "from sklearn.tree import DecisionTreeRegressor\n",
        "from sklearn.neural_network import MLPRegressor\n",
        "from sklearn.svm import SVR\n",
        "from sklearn.ensemble import BaggingRegressor, RandomForestRegressor\n",
        "from glob import glob\n",
        "import numpy as np\n",
        "import os\n",
        "import smogn\n",
        "import resreg\n",
        "from xgboost import XGBRegressor\n",
        "import itertools as it\n",
        "\n",
        "from imbalance_metrics import regression_metrics as rm\n",
        "import ImbalancedLearningRegression as iblr\n",
        "\n",
        "import warnings\n",
        "warnings.filterwarnings('ignore')"
      ]
    },
    {
      "cell_type": "code",
      "source": [
        "def train(regressor, strategy, X, y, c, dataset_name):\n",
        "\n",
        "  train = np.column_stack((y, X))\n",
        "  train_output_file = f\"train_SG_{dataset_name}.csv\"  # Nome único para cada conjunto de treino\n",
        "  pd.DataFrame(train).to_csv(train_output_file, index=False)\n",
        "  train = pd.read_csv(train_output_file)\n",
        "\n",
        "  try:\n",
        "      train = balance(train, strategy, c)\n",
        "  except ValueError:\n",
        "      pass\n",
        "\n",
        "  X = train.drop([train.columns[0]], axis=1)\n",
        "  y = train[train.columns[0]]\n",
        "\n",
        "  model = regressor.fit(X.values, y.values)\n",
        "\n",
        "  return model"
      ],
      "metadata": {
        "id": "F7fe_eHOMMMg"
      },
      "execution_count": null,
      "outputs": []
    },
    {
      "cell_type": "code",
      "source": [
        "def balance(train, strategy, c):\n",
        "\n",
        "  if strategy == \"GN\":\n",
        "    train = iblr.gn(data = train, y = \"0\", samp_method=c[0], pert=c[1],  rel_thres = 0.8)\n",
        "  elif strategy == \"RO\":\n",
        "    train = iblr.ro(data = train, y = \"0\", samp_method=c[0], rel_thres = 0.8)\n",
        "  elif strategy == \"RU\":\n",
        "    train = iblr.random_under(data = train, y = \"0\", samp_method=c[0], rel_thres = 0.8)\n",
        "  elif strategy == \"SG\":\n",
        "    train =  train.dropna()\n",
        "    train = smogn.smoter(data = train, y = train.columns[0], samp_method=c[2], k=c[0], pert=c[1], rel_xtrm_type = 'high', rel_thres = 0.8)\n",
        "    train =  train.dropna()\n",
        "  elif strategy == \"SMT\":\n",
        "    train = iblr.smote(data = train, y = \"0\", samp_method=c[0], rel_thres = 0.8)\n",
        "  elif strategy == \"WC\":\n",
        "    X_train = train.drop([train.columns[0]], axis = 1)\n",
        "    y_train  = train[train.columns[0]]\n",
        "    relevance = resreg.pdf_relevance(y_train)\n",
        "    X_wercs, y_wercs = resreg.wercs(X_train, y_train, relevance, over=c[0], under=c[1])\n",
        "    train = pd.DataFrame(np.column_stack((y_wercs, X_wercs)))\n",
        "  return train"
      ],
      "metadata": {
        "id": "FCKKAwIUioar"
      },
      "execution_count": null,
      "outputs": []
    },
    {
      "cell_type": "code",
      "source": [
        "def repeatedKfold(X, y, dataset_name):\n",
        "\n",
        "  outer = RepeatedKFold(n_splits=10, n_repeats=2, random_state=42)\n",
        "  inner = KFold(n_splits=2, random_state=42, shuffle=True)\n",
        "\n",
        "  print(outer)\n",
        "\n",
        "  all_result = []\n",
        "\n",
        "  v_pert = np.arange(0, 1.05, 0.05).tolist()\n",
        "  val = np.arange(0.3, 1, 0.2).tolist()\n",
        "\n",
        "  strategys = {\"SMT\":{\"C.perc\":[\"balance\", \"extreme\"], \"k\": [3, 5, 7]},\n",
        "               \"RO\":{\"C.perc\":[\"balance\", \"extreme\"]},\n",
        "               \"RU\":{\"C.perc\":[\"balance\", \"extreme\"]},\n",
        "               \"GN\":{\"C.perc\":[\"balance\", \"extreme\"], \"pert\": v_pert},\n",
        "               \"SG\":{\"samp_method\":[\"balance\", \"extreme\"], \"k\": [3, 5, 7], \"pert\": v_pert},\n",
        "               \"WC\":{\"over\": val, \"under\": val}}\n",
        "\n",
        "  regressors = {\n",
        "    'BG': BaggingRegressor(),\n",
        "    'DT': DecisionTreeRegressor(),\n",
        "    'MLP': MLPRegressor(),\n",
        "    'RF': RandomForestRegressor(),\n",
        "    'SVM': SVR(),\n",
        "    'XG': XGBRegressor()\n",
        "  }\n",
        "\n",
        "  all_results_df = pd.DataFrame(columns=['Fold', 'Strategy', 'BestC', 'BestSERA'])\n",
        "\n",
        "  for strategy in strategys:\n",
        "      print(strategy)\n",
        "      data_frame = []\n",
        "      params = strategys[strategy]\n",
        "      keys = sorted(params)\n",
        "\n",
        "      for regressor_name, regressor in regressors.items():\n",
        "        print(regressor_name)\n",
        "        for fold, (train_index, test_index) in enumerate(outer.split(X, y)):\n",
        "            print(\"outer\")\n",
        "            print(\"Fold:\", fold)\n",
        "            X_train_outer, X_test_outer = X[train_index], X[test_index]\n",
        "            y_train_outer, y_test_outer = y[train_index], y[test_index]\n",
        "\n",
        "            best_sera = float('inf')\n",
        "            best_c = None\n",
        "\n",
        "            combinations = it.product(*(params[Name] for Name in keys))\n",
        "\n",
        "            for c in combinations:\n",
        "                print(strategy)\n",
        "                print(c)\n",
        "\n",
        "                fold_scores = []\n",
        "\n",
        "                for train_inner_index, val_inner_index in inner.split(X_train_outer, y_train_outer):\n",
        "                    score_perc = []\n",
        "                    print(\"Inner loop\")\n",
        "\n",
        "                    X_train_inner, X_val_inner = X[train_inner_index], X[val_inner_index]\n",
        "                    y_train_inner, y_val_inner = y[train_inner_index], y[val_inner_index]\n",
        "\n",
        "                    model_inner = train(regressor, strategy, X_train_inner, y_train_inner, c, dataset_name)\n",
        "                    y_pred = model_inner.predict(X_val_inner)\n",
        "                    sera = rm.sera(y_val_inner, y_pred)\n",
        "                    fold_scores.append(sera)\n",
        "\n",
        "                avg_sera = np.mean(fold_scores)\n",
        "                print(\"Average SERA:\", avg_sera)\n",
        "\n",
        "                if avg_sera < best_sera:\n",
        "                    best_sera = avg_sera\n",
        "                    best_c = c\n",
        "                print(best_c)\n",
        "\n",
        "            model_outer = train(regressor, strategy, X_train_outer, y_train_outer, best_c, dataset_name)\n",
        "            y_pred_outer = model_outer.predict(X_test_outer)\n",
        "            sera_outer = rm.sera(y_test_outer, y_pred_outer)\n",
        "            print(\"sera_outer\", sera_outer)\n",
        "\n",
        "            model_name = type(model_outer).__name__\n",
        "\n",
        "            #test = np.column_stack((test_index, y_test_outer))\n",
        "            #pd.DataFrame(test).to_csv('Content/'+strategy+'/'+dataset_name+'.csv/'+model_name+'/Test{}_{}_{}.csv'.format(fold, strategy, model_name, index = False))\n",
        "            pred = np.column_stack((test_index, y_pred_outer))\n",
        "            pd.DataFrame(pred).to_csv('/Content/'+strategy+'/'+dataset_name+'.csv/'+model_name+'/Pred{}_{}_{}.csv'.format(fold, strategy, model_name, index = False))"
      ],
      "metadata": {
        "id": "2LfqHkool8J4"
      },
      "execution_count": null,
      "outputs": []
    },
    {
      "cell_type": "code",
      "source": [
        "data_sets = sorted(glob(r'/ds/*.csv'))"
      ],
      "metadata": {
        "id": "nhq58qeFi2hS"
      },
      "execution_count": null,
      "outputs": []
    },
    {
      "cell_type": "code",
      "source": [
        "for i, dataset in enumerate(data_sets):\n",
        "\n",
        "      ds = pd.read_csv(dataset)\n",
        "      dataset_name = dataset.split('/')[-1].replace('.csv', '')  # Obtém o nome do dataset\n",
        "\n",
        "      X = ds.drop([ds.columns[0]], axis = 1)\n",
        "      y = ds[ds.columns[0]]\n",
        "      X = X.to_numpy()\n",
        "      y = y.to_numpy()\n",
        "\n",
        "      repeatedKfold(X, y, dataset_name)\n"
      ],
      "metadata": {
        "id": "EXrlPa9-ixzy"
      },
      "execution_count": null,
      "outputs": []
    }
  ]
}