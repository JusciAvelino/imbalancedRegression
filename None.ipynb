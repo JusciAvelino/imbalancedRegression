{
  "nbformat": 4,
  "nbformat_minor": 0,
  "metadata": {
    "colab": {
      "provenance": []
    },
    "kernelspec": {
      "name": "python3",
      "display_name": "Python 3"
    },
    "language_info": {
      "name": "python"
    }
  },
  "cells": [
    {
      "cell_type": "code",
      "source": [
        "from joblib import Parallel, delayed\n",
        "import pandas as pd\n",
        "from sklearn.model_selection import train_test_split, RepeatedKFold, GridSearchCV, KFold\n",
        "from sklearn.tree import DecisionTreeRegressor\n",
        "from sklearn.neural_network import MLPRegressor\n",
        "from sklearn.svm import SVR\n",
        "from sklearn.ensemble import BaggingRegressor, RandomForestRegressor\n",
        "from glob import glob\n",
        "import numpy as np\n",
        "import os\n",
        "from xgboost import XGBRegressor\n",
        "import itertools as it\n",
        "\n",
        "import warnings\n",
        "warnings.filterwarnings('ignore')"
      ],
      "metadata": {
        "id": "HTmNSy3AQjch"
      },
      "execution_count": null,
      "outputs": []
    },
    {
      "cell_type": "code",
      "execution_count": null,
      "metadata": {
        "id": "HUSSnGDVQfTK"
      },
      "outputs": [],
      "source": [
        "def repeatedKfold(X, y, dataset_name):\n",
        "\n",
        "  outer = RepeatedKFold(n_splits=10, n_repeats=2, random_state=42)\n",
        "\n",
        "  regressors = {\n",
        "    'BG': BaggingRegressor(),\n",
        "    'DT': DecisionTreeRegressor(),\n",
        "    'MLP': MLPRegressor(),\n",
        "    'RF': RandomForestRegressor(),\n",
        "    'SVM': SVR(),\n",
        "    'XG': XGBRegressor()\n",
        "  }\n",
        "\n",
        "  for regressor_name, regressor in regressors.items():\n",
        "      print(regressor_name)\n",
        "      for fold, (train_index, test_index) in enumerate(outer.split(X, y)):\n",
        "            print(\"outer\")\n",
        "            print(\"Fold:\", fold)\n",
        "            X_train, X_test = X[train_index], X[test_index]\n",
        "            y_train, y_test = y[train_index], y[test_index]\n",
        "\n",
        "            model = regressor.fit(X_train, y_train)\n",
        "            y_pred = model.predict(X_test)\n",
        "\n",
        "            model_name = type(model).__name__\n",
        "\n",
        "            pred = np.column_stack((test_index, y_pred))\n",
        "            pd.DataFrame(pred).to_csv('/project/def-menelau/jga/SURVEY/NONE/'+dataset_name+'.csv/'+model_name+'/Pred{}_{}.csv'.format(fold, model_name, index = False))"
      ]
    },
    {
      "cell_type": "code",
      "source": [
        "def processar_dataset(dataset):\n",
        "    ds = pd.read_csv(dataset)\n",
        "    dataset_name = dataset.split('/')[-1].replace('.csv', '')  # Obtém o nome do dataset\n",
        "\n",
        "    X = ds.drop([ds.columns[0]], axis = 1)\n",
        "    y = ds[ds.columns[0]]\n",
        "\n",
        "    X = X.to_numpy()\n",
        "    y = y.to_numpy()\n",
        "\n",
        "    repeatedKfold(X, y, dataset_name)\n",
        "\n",
        "data_sets = sorted(glob(r'ds/*.csv'))\n",
        "\n",
        "num_jobs = -1  # Isso usa todos os núcleos disponíveis, você pode ajustar conforme necessário\n",
        "\n",
        "# Executa em paralelo para processar múltiplos conjuntos de dados\n",
        "Parallel(n_jobs=num_jobs)(delayed(processar_dataset)(dataset) for dataset in data_sets)"
      ],
      "metadata": {
        "id": "Gn9e-0C-Qwua"
      },
      "execution_count": null,
      "outputs": []
    }
  ]
}